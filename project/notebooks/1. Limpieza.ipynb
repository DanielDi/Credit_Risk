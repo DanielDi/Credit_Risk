{
 "cells": [
  {
   "cell_type": "markdown",
   "metadata": {},
   "source": [
    "# Dependencies"
   ]
  },
  {
   "cell_type": "code",
   "execution_count": 2,
   "metadata": {},
   "outputs": [],
   "source": [
    "import pandas as pd\n",
    "import numpy as np\n",
    "import matplotlib.pyplot as plt\n",
    "import psycopg2"
   ]
  },
  {
   "cell_type": "markdown",
   "metadata": {},
   "source": [
    "# Upload data\n",
    "\n",
    "Convert the DB to feather format with data since 2015-08-1"
   ]
  },
  {
   "cell_type": "code",
   "execution_count": 4,
   "metadata": {},
   "outputs": [
    {
     "name": "stderr",
     "output_type": "stream",
     "text": [
      "C:\\Users\\danie\\AppData\\Local\\Temp\\ipykernel_23608\\4228880585.py:5: DtypeWarning: Columns (1,48,58,117,127,128,129,132,133,134,137) have mixed types. Specify dtype option on import or set low_memory=False.\n",
      "  df = pd.read_csv(file_name)\n"
     ]
    }
   ],
   "source": [
    "# # Execute only to convert the DB to feather (already done).\n",
    "\n",
    "# file_name = '../data/Loan_status_2007-2020Q3.gzip'\n",
    "\n",
    "# df = pd.read_csv(file_name)\n",
    "\n",
    "# # Delimitar últimos cinco años\n",
    "# df[\"issue_d\"] = pd.to_datetime(df[\"issue_d\"])\n",
    "# df = df.loc[(df['issue_d'] >= '2015-08-01')]\n",
    "\n",
    "# df.reset_index().to_feather('../data/loans.feather')"
   ]
  },
  {
   "cell_type": "markdown",
   "metadata": {},
   "source": [
    "## Upload data since 2015"
   ]
  },
  {
   "cell_type": "code",
   "execution_count": 5,
   "metadata": {},
   "outputs": [],
   "source": [
    "file_name = '../data/loans_2015.feather'\n",
    "df = pd.read_feather(file_name)"
   ]
  },
  {
   "cell_type": "markdown",
   "metadata": {},
   "source": [
    "# Preliminary data cleaning\n",
    "- Columns with more than one null data:"
   ]
  },
  {
   "cell_type": "code",
   "execution_count": 6,
   "metadata": {},
   "outputs": [
    {
     "ename": "KeyboardInterrupt",
     "evalue": "",
     "output_type": "error",
     "traceback": [
      "\u001b[1;31m---------------------------------------------------------------------------\u001b[0m",
      "\u001b[1;31mKeyboardInterrupt\u001b[0m                         Traceback (most recent call last)",
      "\u001b[1;32me:\\Cursos\\DS4A\\Credit_Risk\\project\\notebooks\\1. Limpieza.ipynb Cell 8'\u001b[0m in \u001b[0;36m<cell line: 2>\u001b[1;34m()\u001b[0m\n\u001b[0;32m      <a href='vscode-notebook-cell:/e%3A/Cursos/DS4A/Credit_Risk/project/notebooks/1.%20Limpieza.ipynb#ch0000007?line=0'>1</a>\u001b[0m df \u001b[39m=\u001b[39m df\u001b[39m.\u001b[39mdrop([\u001b[39m'\u001b[39m\u001b[39mindex\u001b[39m\u001b[39m'\u001b[39m], axis\u001b[39m=\u001b[39m\u001b[39m1\u001b[39m)\n\u001b[1;32m----> <a href='vscode-notebook-cell:/e%3A/Cursos/DS4A/Credit_Risk/project/notebooks/1.%20Limpieza.ipynb#ch0000007?line=1'>2</a>\u001b[0m df \u001b[39m=\u001b[39m df\u001b[39m.\u001b[39;49mreplace(\u001b[39mr\u001b[39;49m\u001b[39m'\u001b[39;49m\u001b[39m^\u001b[39;49m\u001b[39m\\\u001b[39;49m\u001b[39ms*$\u001b[39;49m\u001b[39m'\u001b[39;49m, np\u001b[39m.\u001b[39;49mNaN, regex\u001b[39m=\u001b[39;49m\u001b[39mTrue\u001b[39;49;00m)\n\u001b[0;32m      <a href='vscode-notebook-cell:/e%3A/Cursos/DS4A/Credit_Risk/project/notebooks/1.%20Limpieza.ipynb#ch0000007?line=2'>3</a>\u001b[0m missing_data \u001b[39m=\u001b[39m df\u001b[39m.\u001b[39misna()\u001b[39m.\u001b[39msum()\n\u001b[0;32m      <a href='vscode-notebook-cell:/e%3A/Cursos/DS4A/Credit_Risk/project/notebooks/1.%20Limpieza.ipynb#ch0000007?line=3'>4</a>\u001b[0m missing_data \u001b[39m=\u001b[39m missing_data[missing_data \u001b[39m!=\u001b[39m \u001b[39m0\u001b[39m]\n",
      "File \u001b[1;32me:\\Cursos\\DS4A\\Credit_Risk\\env\\lib\\site-packages\\pandas\\core\\frame.py:5282\u001b[0m, in \u001b[0;36mDataFrame.replace\u001b[1;34m(self, to_replace, value, inplace, limit, regex, method)\u001b[0m\n\u001b[0;32m   5272\u001b[0m \u001b[39m@doc\u001b[39m(NDFrame\u001b[39m.\u001b[39mreplace, \u001b[39m*\u001b[39m\u001b[39m*\u001b[39m_shared_doc_kwargs)\n\u001b[0;32m   5273\u001b[0m \u001b[39mdef\u001b[39;00m \u001b[39mreplace\u001b[39m(\n\u001b[0;32m   5274\u001b[0m     \u001b[39mself\u001b[39m,\n\u001b[1;32m   (...)\u001b[0m\n\u001b[0;32m   5280\u001b[0m     method: \u001b[39mstr\u001b[39m \u001b[39m|\u001b[39m lib\u001b[39m.\u001b[39mNoDefault \u001b[39m=\u001b[39m lib\u001b[39m.\u001b[39mno_default,\n\u001b[0;32m   5281\u001b[0m ):\n\u001b[1;32m-> 5282\u001b[0m     \u001b[39mreturn\u001b[39;00m \u001b[39msuper\u001b[39;49m()\u001b[39m.\u001b[39;49mreplace(\n\u001b[0;32m   5283\u001b[0m         to_replace\u001b[39m=\u001b[39;49mto_replace,\n\u001b[0;32m   5284\u001b[0m         value\u001b[39m=\u001b[39;49mvalue,\n\u001b[0;32m   5285\u001b[0m         inplace\u001b[39m=\u001b[39;49minplace,\n\u001b[0;32m   5286\u001b[0m         limit\u001b[39m=\u001b[39;49mlimit,\n\u001b[0;32m   5287\u001b[0m         regex\u001b[39m=\u001b[39;49mregex,\n\u001b[0;32m   5288\u001b[0m         method\u001b[39m=\u001b[39;49mmethod,\n\u001b[0;32m   5289\u001b[0m     )\n",
      "File \u001b[1;32me:\\Cursos\\DS4A\\Credit_Risk\\env\\lib\\site-packages\\pandas\\core\\generic.py:6739\u001b[0m, in \u001b[0;36mNDFrame.replace\u001b[1;34m(self, to_replace, value, inplace, limit, regex, method)\u001b[0m\n\u001b[0;32m   6737\u001b[0m regex \u001b[39m=\u001b[39m should_use_regex(regex, to_replace)\n\u001b[0;32m   6738\u001b[0m \u001b[39mif\u001b[39;00m regex:\n\u001b[1;32m-> 6739\u001b[0m     new_data \u001b[39m=\u001b[39m \u001b[39mself\u001b[39;49m\u001b[39m.\u001b[39;49m_mgr\u001b[39m.\u001b[39;49mreplace_regex(\n\u001b[0;32m   6740\u001b[0m         to_replace\u001b[39m=\u001b[39;49mto_replace,\n\u001b[0;32m   6741\u001b[0m         value\u001b[39m=\u001b[39;49mvalue,\n\u001b[0;32m   6742\u001b[0m         inplace\u001b[39m=\u001b[39;49minplace,\n\u001b[0;32m   6743\u001b[0m     )\n\u001b[0;32m   6744\u001b[0m \u001b[39melse\u001b[39;00m:\n\u001b[0;32m   6745\u001b[0m     new_data \u001b[39m=\u001b[39m \u001b[39mself\u001b[39m\u001b[39m.\u001b[39m_mgr\u001b[39m.\u001b[39mreplace(\n\u001b[0;32m   6746\u001b[0m         to_replace\u001b[39m=\u001b[39mto_replace, value\u001b[39m=\u001b[39mvalue, inplace\u001b[39m=\u001b[39minplace\n\u001b[0;32m   6747\u001b[0m     )\n",
      "File \u001b[1;32me:\\Cursos\\DS4A\\Credit_Risk\\env\\lib\\site-packages\\pandas\\core\\internals\\managers.py:446\u001b[0m, in \u001b[0;36mBaseBlockManager.replace_regex\u001b[1;34m(self, **kwargs)\u001b[0m\n\u001b[0;32m    445\u001b[0m \u001b[39mdef\u001b[39;00m \u001b[39mreplace_regex\u001b[39m(\u001b[39mself\u001b[39m, \u001b[39m*\u001b[39m\u001b[39m*\u001b[39mkwargs):\n\u001b[1;32m--> 446\u001b[0m     \u001b[39mreturn\u001b[39;00m \u001b[39mself\u001b[39m\u001b[39m.\u001b[39mapply(\u001b[39m\"\u001b[39m\u001b[39m_replace_regex\u001b[39m\u001b[39m\"\u001b[39m, \u001b[39m*\u001b[39m\u001b[39m*\u001b[39mkwargs)\n",
      "File \u001b[1;32me:\\Cursos\\DS4A\\Credit_Risk\\env\\lib\\site-packages\\pandas\\core\\internals\\managers.py:304\u001b[0m, in \u001b[0;36mBaseBlockManager.apply\u001b[1;34m(self, f, align_keys, ignore_failures, **kwargs)\u001b[0m\n\u001b[0;32m    302\u001b[0m         applied \u001b[39m=\u001b[39m b\u001b[39m.\u001b[39mapply(f, \u001b[39m*\u001b[39m\u001b[39m*\u001b[39mkwargs)\n\u001b[0;32m    303\u001b[0m     \u001b[39melse\u001b[39;00m:\n\u001b[1;32m--> 304\u001b[0m         applied \u001b[39m=\u001b[39m \u001b[39mgetattr\u001b[39m(b, f)(\u001b[39m*\u001b[39m\u001b[39m*\u001b[39mkwargs)\n\u001b[0;32m    305\u001b[0m \u001b[39mexcept\u001b[39;00m (\u001b[39mTypeError\u001b[39;00m, \u001b[39mNotImplementedError\u001b[39;00m):\n\u001b[0;32m    306\u001b[0m     \u001b[39mif\u001b[39;00m \u001b[39mnot\u001b[39;00m ignore_failures:\n",
      "File \u001b[1;32me:\\Cursos\\DS4A\\Credit_Risk\\env\\lib\\site-packages\\pandas\\core\\internals\\blocks.py:756\u001b[0m, in \u001b[0;36mBlock._replace_regex\u001b[1;34m(self, to_replace, value, inplace, convert, mask)\u001b[0m\n\u001b[0;32m    733\u001b[0m \u001b[39m\"\"\"\u001b[39;00m\n\u001b[0;32m    734\u001b[0m \u001b[39mReplace elements by the given value.\u001b[39;00m\n\u001b[0;32m    735\u001b[0m \n\u001b[1;32m   (...)\u001b[0m\n\u001b[0;32m    751\u001b[0m \u001b[39mList[Block]\u001b[39;00m\n\u001b[0;32m    752\u001b[0m \u001b[39m\"\"\"\u001b[39;00m\n\u001b[0;32m    753\u001b[0m \u001b[39mif\u001b[39;00m \u001b[39mnot\u001b[39;00m \u001b[39mself\u001b[39m\u001b[39m.\u001b[39m_can_hold_element(to_replace):\n\u001b[0;32m    754\u001b[0m     \u001b[39m# i.e. only ObjectBlock, but could in principle include a\u001b[39;00m\n\u001b[0;32m    755\u001b[0m     \u001b[39m#  String ExtensionBlock\u001b[39;00m\n\u001b[1;32m--> 756\u001b[0m     \u001b[39mreturn\u001b[39;00m [\u001b[39mself\u001b[39m] \u001b[39mif\u001b[39;00m inplace \u001b[39melse\u001b[39;00m [\u001b[39mself\u001b[39;49m\u001b[39m.\u001b[39;49mcopy()]\n\u001b[0;32m    758\u001b[0m rx \u001b[39m=\u001b[39m re\u001b[39m.\u001b[39mcompile(to_replace)\n\u001b[0;32m    760\u001b[0m new_values \u001b[39m=\u001b[39m \u001b[39mself\u001b[39m\u001b[39m.\u001b[39mvalues \u001b[39mif\u001b[39;00m inplace \u001b[39melse\u001b[39;00m \u001b[39mself\u001b[39m\u001b[39m.\u001b[39mvalues\u001b[39m.\u001b[39mcopy()\n",
      "File \u001b[1;32me:\\Cursos\\DS4A\\Credit_Risk\\env\\lib\\site-packages\\pandas\\core\\internals\\blocks.py:643\u001b[0m, in \u001b[0;36mBlock.copy\u001b[1;34m(self, deep)\u001b[0m\n\u001b[0;32m    641\u001b[0m values \u001b[39m=\u001b[39m \u001b[39mself\u001b[39m\u001b[39m.\u001b[39mvalues\n\u001b[0;32m    642\u001b[0m \u001b[39mif\u001b[39;00m deep:\n\u001b[1;32m--> 643\u001b[0m     values \u001b[39m=\u001b[39m values\u001b[39m.\u001b[39;49mcopy()\n\u001b[0;32m    644\u001b[0m \u001b[39mreturn\u001b[39;00m \u001b[39mtype\u001b[39m(\u001b[39mself\u001b[39m)(values, placement\u001b[39m=\u001b[39m\u001b[39mself\u001b[39m\u001b[39m.\u001b[39m_mgr_locs, ndim\u001b[39m=\u001b[39m\u001b[39mself\u001b[39m\u001b[39m.\u001b[39mndim)\n",
      "\u001b[1;31mKeyboardInterrupt\u001b[0m: "
     ]
    }
   ],
   "source": [
    "df = df.drop(['index'], axis=1)\n",
    "df = df.replace(r'^\\s*$', np.NaN, regex=True)\n",
    "missing_data = df.isna().sum()\n",
    "missing_data = missing_data[missing_data != 0]\n",
    "missing_data = missing_data.to_frame()\n",
    "missing_data.columns = [\"Qty\"]\n",
    "missing_data[\"Missing data (%)\"] = missing_data[\"Qty\"]/df.shape[0]*100\n",
    "missing_data"
   ]
  },
  {
   "cell_type": "markdown",
   "metadata": {},
   "source": []
  },
  {
   "cell_type": "markdown",
   "metadata": {},
   "source": []
  }
 ],
 "metadata": {
  "kernelspec": {
   "display_name": "Python 3.10.4 ('env': venv)",
   "language": "python",
   "name": "python3"
  },
  "language_info": {
   "codemirror_mode": {
    "name": "ipython",
    "version": 3
   },
   "file_extension": ".py",
   "mimetype": "text/x-python",
   "name": "python",
   "nbconvert_exporter": "python",
   "pygments_lexer": "ipython3",
   "version": "3.10.4"
  },
  "orig_nbformat": 4,
  "vscode": {
   "interpreter": {
    "hash": "8b96a94dab111cb6a0c2b530b8d11b9654931eaf5a45d124656ac68fd04d26d0"
   }
  }
 },
 "nbformat": 4,
 "nbformat_minor": 2
}
